{
  "nbformat": 4,
  "nbformat_minor": 0,
  "metadata": {
    "colab": {
      "provenance": []
    },
    "kernelspec": {
      "name": "python3",
      "display_name": "Python 3"
    },
    "language_info": {
      "name": "python"
    }
  },
  "cells": [
    {
      "cell_type": "markdown",
      "source": [
        "## iterator"
      ],
      "metadata": {
        "id": "YBf77-O2VMaK"
      }
    },
    {
      "cell_type": "code",
      "execution_count": 19,
      "metadata": {
        "id": "MobBtdWEVEu1",
        "colab": {
          "base_uri": "https://localhost:8080/"
        },
        "outputId": "0d746f4d-f921-45df-f807-ee2417bc3da0"
      },
      "outputs": [
        {
          "output_type": "stream",
          "name": "stdout",
          "text": [
            "0\n",
            "0\n",
            "0\n",
            "1\n",
            "1\n",
            "2\n",
            "4\n",
            "8\n",
            "15\n",
            "29\n"
          ]
        }
      ],
      "source": [
        "'''\n",
        "Zadanie 1\n",
        "Zaimplementuj własny iterator o nazwie tetranacci, zwracający kolejne liczby ciągu Tetranacciego.\n",
        "Funkcja __init__ powinna posiadać parametr o nazwie steps określający liczbę wyrazów ciągu,\n",
        "po których funkcja __next__ rzuca wyjątek StopIteration.\n",
        "Napisz program, w którym wykorzystasz swój iterator do wypisania na ekranie kolejnych wyrazów tego ciągu.\n",
        "Niech liczbę wyrazów do wypisania podaje użytkownik.\n",
        "\n",
        "'''\n",
        "\n",
        "class Tetranacci:\n",
        "    def __init__(self, steps):\n",
        "        self.steps = steps\n",
        "        self.counter = 0\n",
        "        self.values = [0, 0, 0, 1]\n",
        "\n",
        "    def __iter__(self):\n",
        "        return self\n",
        "\n",
        "    def __next__(self):\n",
        "        if self.counter < self.steps:\n",
        "            self.counter += 1\n",
        "            if self.counter <= 4:\n",
        "                return self.values[self.counter-1]\n",
        "            else:\n",
        "                next_value = sum(self.values)\n",
        "                self.values = self.values[1:] + [next_value]\n",
        "                return next_value\n",
        "        else:\n",
        "            raise StopIteration\n",
        "\n",
        "steps = 10\n",
        "tet = Tetranacci(steps)\n",
        "for value in tet:\n",
        "    print(value)"
      ]
    },
    {
      "cell_type": "markdown",
      "source": [
        "## generator"
      ],
      "metadata": {
        "id": "HgA0kNjTVXwG"
      }
    },
    {
      "cell_type": "code",
      "source": [
        "'''\n",
        "Zadanie 2\n",
        "Zaimplementuj własny generator o nazwie accumulate,\n",
        "zwracający kolejne sumy elementów z podanego obiektu iterowalnego.\n",
        "'''\n",
        "def accumulate(iterable_object):\n",
        "    total = 0\n",
        "    for element in iterable_object:\n",
        "        total += element\n",
        "        yield total\n",
        "\n",
        "for val in accumulate((1,2,3,4,5)):\n",
        "    print(val)"
      ],
      "metadata": {
        "id": "hl3BhofyVdoH",
        "colab": {
          "base_uri": "https://localhost:8080/"
        },
        "outputId": "6d53d144-8e9c-4e47-ff4e-577b683b6bde"
      },
      "execution_count": 21,
      "outputs": [
        {
          "output_type": "stream",
          "name": "stdout",
          "text": [
            "1\n",
            "3\n",
            "6\n",
            "10\n",
            "15\n"
          ]
        }
      ]
    },
    {
      "cell_type": "code",
      "source": [
        "my_gen = accumulate([1,2,3,4,5])\n",
        "print(next(my_gen))\n",
        "print(next(my_gen))"
      ],
      "metadata": {
        "colab": {
          "base_uri": "https://localhost:8080/"
        },
        "id": "hflOJpUQr_Rr",
        "outputId": "bcb44b5c-6e59-471c-b099-a6eaf13144ff"
      },
      "execution_count": 23,
      "outputs": [
        {
          "output_type": "stream",
          "name": "stdout",
          "text": [
            "1\n",
            "3\n"
          ]
        }
      ]
    },
    {
      "cell_type": "code",
      "source": [
        "print(next(my_gen))"
      ],
      "metadata": {
        "colab": {
          "base_uri": "https://localhost:8080/"
        },
        "id": "fVC8bQyJsBuj",
        "outputId": "32c08825-fa80-4e7a-cdb1-89753e3a78d3"
      },
      "execution_count": 24,
      "outputs": [
        {
          "output_type": "stream",
          "name": "stdout",
          "text": [
            "6\n"
          ]
        }
      ]
    },
    {
      "cell_type": "code",
      "source": [
        "'''\n",
        "Zadanie 3\n",
        "\n",
        "Napisz własny dekorator o nazwie hello. Wynikiem jego działania powinno być:\n",
        "• wypisanie na ekranie napisu hello\n",
        "• wywołanie funkcji przekazanej jako argument.\n",
        "'''\n",
        "def hello(my_function):\n",
        "    def wrapper(*args, **kwargs):\n",
        "        print(\"Hello\")\n",
        "        return my_function(*args, **kwargs)\n",
        "    return wrapper\n",
        "\n",
        "\n",
        "@hello\n",
        "def greet(name):\n",
        "    print(f\"Nice to meet you {name}\")\n",
        "\n",
        "greet(\"Dominika\")"
      ],
      "metadata": {
        "id": "ffhbiOTJVnmB",
        "colab": {
          "base_uri": "https://localhost:8080/"
        },
        "outputId": "40f97cd4-5045-4476-b8b8-dd5c85e960bb"
      },
      "execution_count": 25,
      "outputs": [
        {
          "output_type": "stream",
          "name": "stdout",
          "text": [
            "Hello\n",
            "Nice to meet you Dominika\n"
          ]
        }
      ]
    },
    {
      "cell_type": "code",
      "source": [
        "'''\n",
        "Zadanie 4\n",
        "Zaimplementuj własną funkcję o nazwie tetranacci, zwracający określony element ciągu Tetranacciego.\n",
        "Funkcja powinna posiadać parametr o nazwie n określający numer wyrazu ciągu do obliczenia.\n",
        "Obliczenia wykonuj rekurencyjnie.\n",
        "'''\n",
        "\n",
        "def tetranacci(n):\n",
        "    if n == 1 or n == 2 or n == 3:\n",
        "        return 0\n",
        "    elif n == 4:\n",
        "        return 1\n",
        "    else:\n",
        "        return tetranacci(n-1) + tetranacci(n-2) + tetranacci(n-3) + tetranacci(n-4)\n",
        "\n",
        "print(tetranacci(6))"
      ],
      "metadata": {
        "id": "NjZRSS6sVrm5",
        "colab": {
          "base_uri": "https://localhost:8080/"
        },
        "outputId": "cc303601-f081-4ac0-dc98-50224a1becd6"
      },
      "execution_count": 5,
      "outputs": [
        {
          "output_type": "stream",
          "name": "stdout",
          "text": [
            "2\n"
          ]
        }
      ]
    },
    {
      "cell_type": "markdown",
      "source": [
        "## klasy"
      ],
      "metadata": {
        "id": "eDFgAg3cWRAk"
      }
    },
    {
      "cell_type": "code",
      "source": [
        "'''\n",
        "Zadanie 5\n",
        "Stwórz klasę Pojazd z atrybutami predkosc_max i przebieg\n",
        "stwórz instancję klasy i wydrukuj jej atrybuty do konsoli\n",
        "tworzac instancję możesz podać dowolne wielkości\n",
        "'''\n",
        "class Pojazd:\n",
        "    def __init__(self, predkosc_max, przebieg):\n",
        "        self.predkosc_max = predkosc_max\n",
        "        self.przebieg = przebieg\n",
        "\n",
        "pojazd1 = Pojazd(240, 50)\n",
        "pojazd2 = Pojazd(180, 17)\n",
        "print(pojazd1.predkosc_max)\n",
        "print(pojazd1.przebieg)"
      ],
      "metadata": {
        "id": "LMrKGhhSWMM8",
        "colab": {
          "base_uri": "https://localhost:8080/"
        },
        "outputId": "59dec8f6-8604-47e5-ea85-4e17044f8837"
      },
      "execution_count": 26,
      "outputs": [
        {
          "output_type": "stream",
          "name": "stdout",
          "text": [
            "240\n",
            "50\n"
          ]
        }
      ]
    },
    {
      "cell_type": "code",
      "source": [
        "'''\n",
        "Zadanie 6\n",
        "Stwórz klasę Autobus, która dziedziczy po Pojeździe utworzonym wcześniej,\n",
        "ale do atrybutów Pojazdu dodaj jeszcze nazwę modelu\n",
        "stwórz instancję klasy i wydrukuj jej atrybuty\n",
        "'''\n",
        "class Autobus(Pojazd):\n",
        "    def __init__(self, predkosc_max, przebieg, nazwa_modelu):\n",
        "        super().__init__(predkosc_max, przebieg)\n",
        "        self.nazwa_modelu = nazwa_modelu\n",
        "\n",
        "autobus1 = Autobus(300, 20, \"Autobus XYZ\")\n",
        "print(autobus1.predkosc_max)\n",
        "print(autobus1.nazwa_modelu)"
      ],
      "metadata": {
        "id": "z_dYT1f5Wexv",
        "colab": {
          "base_uri": "https://localhost:8080/"
        },
        "outputId": "9b61183c-53b7-436f-d3b3-a6762cf194b5"
      },
      "execution_count": 27,
      "outputs": [
        {
          "output_type": "stream",
          "name": "stdout",
          "text": [
            "300\n",
            "Autobus XYZ\n"
          ]
        }
      ]
    },
    {
      "cell_type": "code",
      "source": [
        "'''\n",
        "Zadanie 7\n",
        "klasie Pojazd utwórz metodę liczba_miejsc, która będzie przyjmowała jako argument liczbę miejsc i wyświetlała komunikat:\n",
        "\"{TU WSTAWIMY NAZWE POJAZDU} pomieści {LICZBA MIEJSC} osób.\"\n",
        "Klasa Autobus ma też dziedziczyć tę metodę, ale dodatkowo przyjmować wartość domyślną dla liczby miejsc = 50\n",
        "Utwórz instancję klasy aby zaprezentować działanie\n",
        "'''\n",
        "class Pojazd:\n",
        "    def __init__(self, predkosc_max, przebieg, nazwa_modelu):\n",
        "        self.predkosc_max = predkosc_max\n",
        "        self.przebieg = przebieg\n",
        "        self.nazwa_modelu = nazwa_modelu\n",
        "\n",
        "    def liczba_miejsc(self, miejsca):\n",
        "        return f\"{self.nazwa_modelu} pomieści {miejsca} osób.\"\n",
        "\n",
        "\n",
        "class Autobus(Pojazd):\n",
        "    def liczba_miejsc(self, miejsca=50):\n",
        "        return super().liczba_miejsc(miejsca)\n",
        "\n",
        "autobus1 = Autobus(300, 20, \"Autobus XYZ\")\n",
        "pojazd1 = Pojazd(300, 20, \"Pojazd XYZ\")\n",
        "print(autobus1.liczba_miejsc())\n",
        "print(autobus1.liczba_miejsc(20))\n",
        "print(pojazd1.liczba_miejsc(20))\n",
        "print(pojazd1.liczba_miejsc())"
      ],
      "metadata": {
        "id": "ym3LAEnwsZPh"
      },
      "execution_count": null,
      "outputs": []
    },
    {
      "cell_type": "code",
      "source": [
        "'''\n",
        "Zadanie 8\n",
        "Sprawdź czy obiekt autobus jest instancją klasy Pojazd\n",
        "'''\n",
        "print(isinstance(autobus1, Pojazd))\n",
        "print(isinstance(autobus1, Autobus))\n",
        "print(isinstance(pojazd1, Autobus))"
      ],
      "metadata": {
        "id": "y2s80EMmWrKP",
        "colab": {
          "base_uri": "https://localhost:8080/"
        },
        "outputId": "7a6d0885-e6a2-4696-f36c-e754c55c7423"
      },
      "execution_count": 29,
      "outputs": [
        {
          "output_type": "stream",
          "name": "stdout",
          "text": [
            "True\n",
            "True\n",
            "False\n"
          ]
        }
      ]
    },
    {
      "cell_type": "markdown",
      "source": [
        "## PRACA DOMOWA (15 pkt)"
      ],
      "metadata": {
        "id": "jjNBmv7pVwP_"
      }
    },
    {
      "cell_type": "code",
      "source": [
        "'''\n",
        "Zadanie 1 (4 pkt)\n",
        "Wykorzystując dekoratory, napisz cache dla funkcji tetranacci z poprzedniego zadania.\n",
        "Ten dekorator powinien zapobiegać przed ponownym obliczaniem tych samych wartości.\n",
        "'''\n",
        "\n",
        "\n",
        "def cache(func):\n",
        "    cached_vals = {}\n",
        "    def wrapper(*args, **kwargs):\n",
        "        key = args\n",
        "        if key in cached_vals:\n",
        "            print(f\"pobrano wartość z cache dla wywołania funkcji z argumentami: {args[0]}\")\n",
        "            return cached_vals[key]\n",
        "        val = func(*args, **kwargs)\n",
        "        cached_vals[key] = val\n",
        "        print(f\"zapisano do cache wartosć dla wywołania funkcji z argumentami: {args[0]}\")\n",
        "        return val\n",
        "\n",
        "    return wrapper\n",
        "\n",
        "\n",
        "@cache\n",
        "def tetranacci(n):\n",
        "    if n == 1 or n == 2 or n == 3:\n",
        "        return 0\n",
        "    elif n == 4:\n",
        "        return 1\n",
        "    else:\n",
        "        return tetranacci(n-1) + tetranacci(n-2) + tetranacci(n-3) + tetranacci(n-4)\n",
        "\n",
        "print(tetranacci(6))\n",
        "print(tetranacci(6))\n",
        "print(tetranacci(7))"
      ],
      "metadata": {
        "id": "TTUMq_uuVx32",
        "colab": {
          "base_uri": "https://localhost:8080/"
        },
        "outputId": "81546b9c-5d1e-4e67-ca30-c123cae87811"
      },
      "execution_count": 10,
      "outputs": [
        {
          "output_type": "stream",
          "name": "stdout",
          "text": [
            "zapisano do cache wartosć dla wywołania funkcji z argumentami: 4\n",
            "zapisano do cache wartosć dla wywołania funkcji z argumentami: 3\n",
            "zapisano do cache wartosć dla wywołania funkcji z argumentami: 2\n",
            "zapisano do cache wartosć dla wywołania funkcji z argumentami: 1\n",
            "zapisano do cache wartosć dla wywołania funkcji z argumentami: 5\n",
            "pobrano wartość z cache dla wywołania funkcji z argumentami: 4\n",
            "pobrano wartość z cache dla wywołania funkcji z argumentami: 3\n",
            "pobrano wartość z cache dla wywołania funkcji z argumentami: 2\n",
            "zapisano do cache wartosć dla wywołania funkcji z argumentami: 6\n",
            "2\n",
            "pobrano wartość z cache dla wywołania funkcji z argumentami: 6\n",
            "2\n",
            "pobrano wartość z cache dla wywołania funkcji z argumentami: 6\n",
            "pobrano wartość z cache dla wywołania funkcji z argumentami: 5\n",
            "pobrano wartość z cache dla wywołania funkcji z argumentami: 4\n",
            "pobrano wartość z cache dla wywołania funkcji z argumentami: 3\n",
            "zapisano do cache wartosć dla wywołania funkcji z argumentami: 7\n",
            "4\n"
          ]
        }
      ]
    },
    {
      "cell_type": "code",
      "source": [
        "'''\n",
        "Zadanie 2 (4 pkt)\n",
        "Zaimplementuj własny generator o nazwie repeat, zwracający obiekt podany przez użytkownika dokładnie N razy.\n",
        "Jeśli wartość parametru N nie została określona, generator powinien zwracać wartości w nieskończoność.\n",
        "\n",
        "PRZYKŁAD\n",
        "repeat(10, 3) → 10 10 10\n",
        "repeat(10, 5) → 10 10 10 10 10\n",
        "repeat(5) → 5 5 5 5 5 5 5 5 5 5 5 5 5 5 5…\n",
        "repeat(5, None) → 5 5 5 5 5 5 5 5 5 5 5 5 5 5 5…\n",
        "'''\n",
        "\n",
        "\n",
        "def repeat(obj, n=None):\n",
        "\n",
        "    if n is not None:\n",
        "        for i in range(n):\n",
        "            yield obj\n",
        "    else:\n",
        "        while True:\n",
        "            yield obj\n",
        "\n",
        "for val in repeat(\"TEST\", 6):\n",
        "    print(val)\n"
      ],
      "metadata": {
        "id": "Q_Ur2Z9uWF-l",
        "colab": {
          "base_uri": "https://localhost:8080/"
        },
        "outputId": "7884e732-0001-4151-ce9b-cec42e7df436"
      },
      "execution_count": 1,
      "outputs": [
        {
          "output_type": "stream",
          "name": "stdout",
          "text": [
            "TEST\n",
            "TEST\n",
            "TEST\n",
            "TEST\n",
            "TEST\n",
            "TEST\n"
          ]
        }
      ]
    },
    {
      "cell_type": "code",
      "source": [
        "'''\n",
        "Zadanie 3 (1 pkt)\n",
        "W kodzie z zajęć w klasie Pojazd utwórz atrybut, który niezależnie od utworzonego obiektu będzie miał taką samą wartość.\n",
        "każdy obiekt ma mieć kolor biały\n",
        "'''\n",
        "\n",
        "class Pojazd:\n",
        "\n",
        "    kolor = 'biały'\n",
        "\n",
        "    def __init__(self, predkosc_max, przebieg):\n",
        "        self.predkosc_max = predkosc_max\n",
        "        self.przebieg = przebieg\n",
        "\n",
        "pojazd1 = Pojazd(240, 50)\n",
        "pojazd2 = Pojazd(180, 17)\n",
        "print(pojazd1.predkosc_max)\n",
        "print(pojazd1.przebieg)\n",
        "\n",
        "print(pojazd1.kolor)\n",
        "print(pojazd2.kolor)"
      ],
      "metadata": {
        "id": "gChh80FsWzT7",
        "colab": {
          "base_uri": "https://localhost:8080/"
        },
        "outputId": "3b00234c-285f-41ed-b409-a24dcfefaaae"
      },
      "execution_count": 4,
      "outputs": [
        {
          "output_type": "stream",
          "name": "stdout",
          "text": [
            "240\n",
            "50\n",
            "biały\n",
            "biały\n"
          ]
        }
      ]
    },
    {
      "cell_type": "code",
      "source": [
        "'''\n",
        "Zadanie 4 (2 pkt)\n",
        "Wykorzystaj klasy Autobus i Pojazd.\n",
        "Zdefiniuj metodę opłata, k†óra będzie miała wartość domyślną liczba_miejsc * 100\n",
        "Jeżeli Pojazd jest instancją Autobusu, opłata ma zostać powiększona o 10% wartości opłaty początkowej.\n",
        "Np. jeżeli autobus domyślnie ma 50 miejsc to opłata całkowita wyniesie 5500\n",
        "'''\n",
        "\n",
        "class Pojazd:\n",
        "\n",
        "    kolor = 'biały'\n",
        "\n",
        "    def __init__(self, predkosc_max, przebieg, nazwa_modelu):\n",
        "        self.predkosc_max = predkosc_max\n",
        "        self.przebieg = przebieg\n",
        "        self.nazwa_modelu = nazwa_modelu\n",
        "\n",
        "    def liczba_miejsc(self, miejsca):\n",
        "        return f\"{self.nazwa_modelu} pomieści {miejsca} osób.\"\n",
        "\n",
        "    def oplata(self, liczba_miejsc):\n",
        "      return liczba_miejsc * 100\n",
        "\n",
        "\n",
        "class Autobus(Pojazd):\n",
        "    def liczba_miejsc(self, miejsca=50):\n",
        "        return super().liczba_miejsc(miejsca)\n",
        "\n",
        "\n",
        "    def oplata(self, liczba_miejsc = 50):\n",
        "      return super().oplata(liczba_miejsc) * 1.1\n",
        "\n",
        "\n",
        "autobus1 = Autobus(300, 20, \"Autobus Jelcz\")\n",
        "pojazd1 = Pojazd(300, 20, \"Pojazd Mercedes\")\n",
        "\n",
        "\n",
        "print(pojazd1.oplata(50))\n",
        "print(autobus1.oplata())\n"
      ],
      "metadata": {
        "id": "Q4Js_zjIXHZi",
        "colab": {
          "base_uri": "https://localhost:8080/"
        },
        "outputId": "193fb85c-38b5-4792-a172-2102e045df8c"
      },
      "execution_count": 11,
      "outputs": [
        {
          "output_type": "stream",
          "name": "stdout",
          "text": [
            "5000\n",
            "5500.0\n"
          ]
        }
      ]
    },
    {
      "cell_type": "code",
      "source": [
        "'''\n",
        "Zadanie 5 (4 pkt)\n",
        "Napisz klasę FunkcjaKwadratowa, która przechowuje funkcje typu $ax^2$+bx+c.\n",
        "Klasa powinna zawierać trzy pola: a, b, c, które są przypisywane w konstruktorze.\n",
        "Główną metodą powinna być rozwiaz(), która zwraca miejsca zerowe podanej funkcji.\n",
        "Należy zwrócić uwagę na przypadki gdy a=0, b=0 lub c=0,\n",
        "a także obmyślić sposób informowania o nieskończonej liczbie, jednym lub zerze rozwiązań.\n",
        "'''\n",
        "\n",
        "'''\n",
        "początek kodu dla ułatwienia\n",
        "\n",
        "'''\n",
        "import math\n",
        "\n",
        "class FunkcjaKwadratowa:\n",
        "    def __init__(self, a, b, c):\n",
        "        self.a = a\n",
        "        self.b = b\n",
        "        self.c = c\n",
        "\n",
        "    def wypisz(self):\n",
        "        print(f\"a = {self.a}, b = {self.b}, c = {self.c}\")\n",
        "\n",
        "    def oblicz_wartosc(self, x):\n",
        "        return self.a * x ** 2 + self.b * x + self.c\n",
        "\n",
        "    def rozwiaz(self):\n",
        "\n",
        "        if self.a == 0:\n",
        "          #funkcja nie jest kwadratowa\n",
        "\n",
        "          if self.b == 0:\n",
        "            if self.c == 0:\n",
        "              return f\"Funkcja stała przyjmuje wartość 0 dla wszystkich wartosci x\"\n",
        "\n",
        "            return f\"Funkcja liniowa nie posiada miejsca zerowego\"\n",
        "          x = - self.c / self.b\n",
        "          return f\"Miejsce zerowe funkcji liniowej {x}\"\n",
        "\n",
        "        delta = self.b**2 - 4*self.a*self.c\n",
        "\n",
        "        if delta > 0:\n",
        "            x1 = (-self.b + math.sqrt(delta)) / (2*self.a)\n",
        "            x2 = (-self.b - math.sqrt(delta)) / (2*self.a)\n",
        "            return f\"Miejsca zerowe funkcji kwadratowej {x1} {x2}\"\n",
        "\n",
        "        elif delta == 0:\n",
        "            x = -self.b / (2*self.a)\n",
        "            return f\"Miejsce zerowe funkcji kwadratowej {x}\"\n",
        "\n",
        "        else:\n",
        "            return \"Brak miejsc zerowych funkcji kwadratowej\"\n",
        "\n",
        "\n",
        "def main():\n",
        "    f1 = FunkcjaKwadratowa(2, 3, 1)\n",
        "    f1.wypisz()\n",
        "    print(f1.oblicz_wartosc(0))\n",
        "    print(f1.oblicz_wartosc(1))\n",
        "\n",
        "    print(FunkcjaKwadratowa(0, 0, 0).rozwiaz())\n",
        "    print(FunkcjaKwadratowa(0, 0, 1).rozwiaz())\n",
        "    print(FunkcjaKwadratowa(0, 2, 3).rozwiaz())\n",
        "    print(FunkcjaKwadratowa(1, 2, 3).rozwiaz())\n",
        "    print(FunkcjaKwadratowa(1, -5, 6).rozwiaz())\n",
        "    print(FunkcjaKwadratowa(1, 4, 4).rozwiaz())\n",
        "\n",
        "if __name__ == \"__main__\":\n",
        "    main()"
      ],
      "metadata": {
        "id": "BsdImsIAXXsu",
        "colab": {
          "base_uri": "https://localhost:8080/"
        },
        "outputId": "d83beeed-d26b-4851-cdeb-5018bc4bcffd"
      },
      "execution_count": 30,
      "outputs": [
        {
          "output_type": "stream",
          "name": "stdout",
          "text": [
            "a = 2, b = 3, c = 1\n",
            "1\n",
            "6\n",
            "Funkcja stała przyjmuje wartość 0 dla wszystkich wartosci x\n",
            "Funkcja liniowa nie posiada miejsca zerowego\n",
            "Miejsce zerowe funkcji liniowej -1.5\n",
            "Brak miejsc zerowych funkcji kwadratowej\n",
            "Miejsca zerowe funkcji kwadratowej 3.0 2.0\n",
            "Miejsce zerowe funkcji kwadratowej -2.0\n"
          ]
        }
      ]
    }
  ]
}